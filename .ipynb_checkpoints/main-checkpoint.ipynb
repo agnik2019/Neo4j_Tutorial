{
 "cells": [
  {
   "cell_type": "code",
   "execution_count": 8,
   "id": "a8ac9b4a-64d4-43f0-96bb-91eb5d918668",
   "metadata": {},
   "outputs": [
    {
     "name": "stdout",
     "output_type": "stream",
     "text": [
      "Collecting neo4j\n",
      "  Using cached neo4j-5.28.2-py3-none-any.whl.metadata (5.9 kB)\n",
      "Requirement already satisfied: pytz in /opt/anaconda3/lib/python3.12/site-packages (from neo4j) (2024.1)\n",
      "Using cached neo4j-5.28.2-py3-none-any.whl (313 kB)\n",
      "Installing collected packages: neo4j\n",
      "Successfully installed neo4j-5.28.2\n",
      "\n",
      "\u001b[1m[\u001b[0m\u001b[34;49mnotice\u001b[0m\u001b[1;39;49m]\u001b[0m\u001b[39;49m A new release of pip is available: \u001b[0m\u001b[31;49m25.0.1\u001b[0m\u001b[39;49m -> \u001b[0m\u001b[32;49m25.2\u001b[0m\n",
      "\u001b[1m[\u001b[0m\u001b[34;49mnotice\u001b[0m\u001b[1;39;49m]\u001b[0m\u001b[39;49m To update, run: \u001b[0m\u001b[32;49mpip3.12 install --upgrade pip\u001b[0m\n"
     ]
    }
   ],
   "source": [
    "import sys\n",
    "!{sys.executable} -m pip install neo4j\n"
   ]
  },
  {
   "cell_type": "markdown",
   "id": "2a73d89b-14b3-49e4-b6c9-ea62601be04e",
   "metadata": {},
   "source": [
    "#### Load Triples into Neo4j from CSV using Python\n",
    "\n",
    "This script connects to a Neo4j database using the official Python driver, loads a CSV file of triples (head, relation, tail), and inserts them as nodes and relationships. Entities are merged to avoid duplicates, and relationships are created via the APOC apoc.merge.relationship procedure. The query returns the total number of relationships created or updated. The CSV file must be placed inside Neo4j’s import directory and referenced as file:///triples.csv."
   ]
  },
  {
   "cell_type": "code",
   "execution_count": 10,
   "id": "e9df35ad-fe60-4b77-86c5-e2f03c30e705",
   "metadata": {},
   "outputs": [
    {
     "name": "stdout",
     "output_type": "stream",
     "text": [
      "<Record relationships_touched=7893>\n"
     ]
    }
   ],
   "source": [
    "from neo4j import GraphDatabase\n",
    "\n",
    "driver = GraphDatabase.driver(\"neo4j://localhost:7687\", auth=(\"neo4j\",\"YourStrongPass123!\"))\n",
    "\n",
    "load_csv = \"\"\"\n",
    "LOAD CSV WITH HEADERS FROM $url AS row\n",
    "WITH trim(row.head) AS h, trim(row.relation) AS r, trim(row.tail) AS t\n",
    "WHERE h <> '' AND r <> '' AND t <> ''\n",
    "MERGE (hN:Entity {name: h})\n",
    "MERGE (tN:Entity {name: t})\n",
    "WITH hN, tN, toUpper(replace(r,' ','_')) AS rtype\n",
    "CALL apoc.merge.relationship(hN, rtype, {}, {}, tN) YIELD rel\n",
    "RETURN count(rel) AS relationships_touched\n",
    "\"\"\"\n",
    "\n",
    "with driver.session() as s:\n",
    "    print(s.run(load_csv, url=\"file:///triples.csv\").single())\n"
   ]
  },
  {
   "cell_type": "code",
   "execution_count": 19,
   "id": "5398ca42-ec87-468a-b4e2-dc13eced5440",
   "metadata": {},
   "outputs": [
    {
     "name": "stdout",
     "output_type": "stream",
     "text": [
      "Imported: 2242 nodes, 20411 relationships\n"
     ]
    }
   ],
   "source": [
    "# file: load_attack_stix.py\n",
    "from neo4j import GraphDatabase\n",
    "\n",
    "URI  = \"neo4j://localhost:7687\"\n",
    "AUTH = (\"neo4j\", \"YourStrongPass123!\")\n",
    "\n",
    "driver = GraphDatabase.driver(URI, auth=AUTH)\n",
    "\n",
    "def run(tx, q, **p):\n",
    "    return tx.run(q, **p).consume()\n",
    "\n",
    "def import_bundle(session, path_in_import):\n",
    "    # 1) Nodes (everything except 'relationship')\n",
    "    q_nodes = \"\"\"\n",
    "    CALL apoc.load.json($path) YIELD value\n",
    "    UNWIND value.objects AS o\n",
    "    WITH o WHERE o.type <> 'relationship'\n",
    "    MERGE (n:Attack {id:o.id})\n",
    "    SET n.stix_type   = o.type,\n",
    "        n.name        = coalesce(o.name, o.id),\n",
    "        n.description = o.description,\n",
    "        n.created     = datetime(o.created),\n",
    "        n.modified    = datetime(o.modified),\n",
    "        n.revoked     = coalesce(o.revoked,false),\n",
    "        n.deprecated  = coalesce(o.x_mitre_deprecated,false),\n",
    "        n.platforms   = coalesce(o.x_mitre_platforms,[]),\n",
    "        n.domains     = coalesce(o.x_mitre_domains,[]),\n",
    "        // extract only the phase_name/kill_chain_name strings (arrays of primitives)\n",
    "        n.kc_phases   = [k IN coalesce(o.kill_chain_phases, []) | toLower(k['phase_name'])],\n",
    "        n.kc_names    = [k IN coalesce(o.kill_chain_phases, []) | toLower(k['kill_chain_name'])],\n",
    "        n.shortname   = o.x_mitre_shortname\n",
    "    \"\"\"\n",
    "    # 2) Relationships from STIX relationship objects\n",
    "    q_rels = \"\"\"\n",
    "    CALL apoc.load.json($path) YIELD value\n",
    "    UNWIND value.objects AS o\n",
    "    WITH o WHERE o.type = 'relationship'\n",
    "    MATCH (s:Attack {id:o.source_ref})\n",
    "    MATCH (t:Attack {id:o.target_ref})\n",
    "    MERGE (s)-[r:ATTACK_REL {id:o.id}]->(t)\n",
    "    SET r.rel_type    = o.relationship_type,\n",
    "        r.description = o.description\n",
    "    \"\"\"\n",
    "    # 3) Technique → Tactic join: use the string list we just stored\n",
    "    q_tech_tactic = \"\"\"\n",
    "    MATCH (tech:Attack {stix_type:'attack-pattern'})\n",
    "    UNWIND coalesce(tech.kc_phases, []) AS phase\n",
    "    MATCH (tac:Attack {stix_type:'x-mitre-tactic'})\n",
    "    WHERE toLower(tac.shortname) = phase OR toLower(tac.name) = phase\n",
    "    MERGE (tech)-[:IN_TACTIC]->(tac)\n",
    "    \"\"\"\n",
    "\n",
    "    session.execute_write(run, \"CREATE CONSTRAINT attack_id IF NOT EXISTS FOR (n:Attack) REQUIRE n.id IS UNIQUE\")\n",
    "    session.execute_write(run, q_nodes, path=path_in_import)\n",
    "    session.execute_write(run, q_rels,  path=path_in_import)\n",
    "    session.execute_write(run, q_tech_tactic)\n",
    "\n",
    "if __name__ == \"__main__\":\n",
    "    with driver.session() as s:\n",
    "        # Import just Enterprise first (fast). Add others if you want.\n",
    "        import_bundle(s, \"file:///enterprise-attack/enterprise-attack.json\")\n",
    "        # import_bundle(s, \"file:///mobile-attack/mobile-attack.json\")\n",
    "        # import_bundle(s, \"file:///ics-attack/ics-attack.json\")\n",
    "\n",
    "        # Quick counts\n",
    "        res1 = s.run(\"MATCH (n:Attack) RETURN count(n) AS nodes\").single()[\"nodes\"]\n",
    "        res2 = s.run(\"MATCH ()-[r:ATTACK_REL]->() RETURN count(r) AS rels\").single()[\"rels\"]\n",
    "        print(\"Imported:\", res1, \"nodes,\", res2, \"relationships\")\n",
    "\n",
    "    driver.close()\n"
   ]
  },
  {
   "cell_type": "markdown",
   "id": "314e90df-51da-4008-8a21-93e677f2c9d8",
   "metadata": {},
   "source": [
    "## Part A - Orientation\n",
    "\n",
    "#### How big is the graph?"
   ]
  },
  {
   "cell_type": "code",
   "execution_count": 40,
   "id": "bb700659-6607-43e1-8037-b97abedf8ac7",
   "metadata": {},
   "outputs": [],
   "source": [
    "from neo4j import GraphDatabase\n",
    "import pandas as pd\n",
    "from typing import Dict, Any, List\n",
    "\n",
    "# ---------- CONFIG ----------\n",
    "NEO4J_URI  = \"neo4j://localhost:7687\"\n",
    "NEO4J_USER = \"neo4j\"\n",
    "NEO4J_PASS = \"YourStrongPass123!\"\n",
    "\n",
    "DEFAULTS = {\n",
    "    \"group\": \"APT29\",\n",
    "    \"tech\": \"Credential Dumping\",\n",
    "    \"tactic\": \"defense-evasion\",\n",
    "    \"g1\": \"APT29\",\n",
    "    \"g2\": \"FIN7\",\n",
    "    \"software\": \"Mimikatz\",\n",
    "    \"recent_days\": 180,\n",
    "}\n",
    "\n",
    "# ---------- UTILS ----------\n",
    "\n",
    "driver = GraphDatabase.driver(\"neo4j://localhost:7687\", auth=(\"neo4j\",\"YourStrongPass123!\"))\n",
    "\n",
    "def close():\n",
    "    driver.close()\n",
    "\n",
    "def df_from_result(result) -> pd.DataFrame:\n",
    "    rows = [dict(r) for r in result]\n",
    "    return pd.DataFrame(rows)\n",
    "\n",
    "\n",
    "def query(q: str, **params) -> pd.DataFrame:\n",
    "    with driver.session() as s:\n",
    "        res = s.run(q, **params)\n",
    "        return df_from_result(res)"
   ]
  },
  {
   "cell_type": "code",
   "execution_count": 30,
   "id": "f3a5c2f0-64e0-4624-83b5-1c6715d4f597",
   "metadata": {},
   "outputs": [],
   "source": [
    "# MATCH (n:Attack) RETURN count(n) AS nodes;\n",
    "# MATCH ()-[r:ATTACK_REL]->() RETURN count(r) AS relationships;"
   ]
  },
  {
   "cell_type": "code",
   "execution_count": 42,
   "id": "0c77872d-cd5d-4332-ada2-33da6e502b72",
   "metadata": {},
   "outputs": [],
   "source": [
    "def A1_counts():\n",
    "    q1 = \"MATCH (n:Attack) RETURN count(n) AS nodes\"\n",
    "    q2 = \"MATCH ()-[r:ATTACK_REL]->() RETURN count(r) AS relationships\"\n",
    "    return query(q1), query(q2)"
   ]
  },
  {
   "cell_type": "code",
   "execution_count": 44,
   "id": "3a058a39-6f5c-4edb-8728-711eae023972",
   "metadata": {},
   "outputs": [
    {
     "name": "stdout",
     "output_type": "stream",
     "text": [
      "\\n=== A1 counts — nodes ===\n",
      " nodes\n",
      "  2242\n",
      "\\n=== A1 counts — relationships ===\n",
      " relationships\n",
      "         20411\n"
     ]
    }
   ],
   "source": [
    "nodes_df, rels_df = A1_counts()\n",
    "\n",
    "_print_section(\"A1 counts — nodes\", nodes_df)\n",
    "_print_section(\"A1 counts — relationships\", rels_df)"
   ]
  },
  {
   "cell_type": "markdown",
   "id": "64bc3d68-7410-4ee6-80ae-f2825b08430b",
   "metadata": {},
   "source": [
    "#### A2. What kinds of objects do we have? (techniques, malware, groups…)"
   ]
  },
  {
   "cell_type": "code",
   "execution_count": 46,
   "id": "6432f9e4-453b-4d94-8702-6dba4731af7f",
   "metadata": {},
   "outputs": [],
   "source": [
    "def A2_object_types():\n",
    "    q = \"\"\"\n",
    "    MATCH (n:Attack)\n",
    "    RETURN n.stix_type AS type, count(*) AS n\n",
    "    ORDER BY n DESC\n",
    "    \"\"\"\n",
    "    return query(q)"
   ]
  },
  {
   "cell_type": "code",
   "execution_count": 48,
   "id": "9b9c321f-0ac0-49fc-8359-acd1b45505e1",
   "metadata": {},
   "outputs": [
    {
     "name": "stdout",
     "output_type": "stream",
     "text": [
      "\\n=== A2 object types ===\n",
      "                  type   n\n",
      "        attack-pattern 823\n",
      "               malware 667\n",
      "      course-of-action 268\n",
      "         intrusion-set 181\n",
      "x-mitre-data-component 109\n",
      "                  tool  91\n",
      "              campaign  47\n",
      "   x-mitre-data-source  38\n",
      "        x-mitre-tactic  14\n",
      "    x-mitre-collection   1\n",
      "        x-mitre-matrix   1\n",
      "              identity   1\n",
      "    marking-definition   1\n"
     ]
    }
   ],
   "source": [
    "_print_section(\"A2 object types\", A2_object_types())\n"
   ]
  },
  {
   "cell_type": "markdown",
   "id": "738a8732-6160-4760-8e97-56ed739ad01c",
   "metadata": {},
   "source": [
    "#### A3. What relationship types are most common?"
   ]
  },
  {
   "cell_type": "code",
   "execution_count": 53,
   "id": "a056a3cf-900f-4b76-a0f2-5062d93fc394",
   "metadata": {},
   "outputs": [
    {
     "name": "stdout",
     "output_type": "stream",
     "text": [
      "\\n=== A3 relationship types ===\n",
      "       rel_type     n\n",
      "           uses 16241\n",
      "        detects  2116\n",
      "      mitigates  1421\n",
      "subtechnique-of   470\n",
      "     revoked-by   140\n",
      "  attributed-to    23\n"
     ]
    }
   ],
   "source": [
    "def A3_relationship_types():\n",
    "    q = \"\"\"\n",
    "    MATCH ()-[r:ATTACK_REL]->()\n",
    "    RETURN r.rel_type AS rel_type, count(*) AS n\n",
    "    ORDER BY n DESC\n",
    "    \"\"\"\n",
    "    return query(q)\n",
    "\n",
    "_print_section(\"A3 relationship types\", A3_relationship_types())\n"
   ]
  },
  {
   "cell_type": "markdown",
   "id": "87b36484-ef16-4057-920a-279fdcf5af24",
   "metadata": {},
   "source": [
    "#### A4. Which tactics have the most techniques?"
   ]
  },
  {
   "cell_type": "code",
   "execution_count": 57,
   "id": "a2ef1564-07da-45af-a63e-e9be2252befd",
   "metadata": {},
   "outputs": [
    {
     "name": "stdout",
     "output_type": "stream",
     "text": [
      "\\n=== A4 tactic -> technique counts ===\n",
      "              tactic  techniques\n",
      "     defense-evasion         258\n",
      "         persistence         180\n",
      "privilege-escalation         139\n",
      "   credential-access          80\n",
      "           execution          67\n",
      " command-and-control          55\n",
      "           discovery          48\n",
      "resource-development          47\n",
      "      reconnaissance          44\n",
      "          collection          40\n",
      "              impact          38\n",
      "    lateral-movement          34\n",
      "      initial-access          25\n",
      "        exfiltration          21\n"
     ]
    }
   ],
   "source": [
    "def A4_tactic_technique_counts():\n",
    "    q = \"\"\"\n",
    "    MATCH (tac:Attack {stix_type:'x-mitre-tactic'})<-[:IN_TACTIC]-(tech:Attack {stix_type:'attack-pattern'})\n",
    "    RETURN tac.shortname AS tactic, count(tech) AS techniques\n",
    "    ORDER BY techniques DESC\n",
    "    \"\"\"\n",
    "    return query(q)\n",
    "\n",
    "_print_section(\"A4 tactic -> technique counts\", A4_tactic_technique_counts())\n"
   ]
  },
  {
   "cell_type": "markdown",
   "id": "a57e96e3-bd53-4c98-a24f-74da024d2245",
   "metadata": {},
   "source": [
    "#### A5. Active vs deprecated/revoked techniques"
   ]
  },
  {
   "cell_type": "code",
   "execution_count": 62,
   "id": "ccaccf7d-1752-4216-9052-ac9978e05052",
   "metadata": {},
   "outputs": [
    {
     "name": "stdout",
     "output_type": "stream",
     "text": [
      "\\n=== A5 techniques active vs inactive ===\n",
      " inactive  active\n",
      "      144     679\n"
     ]
    }
   ],
   "source": [
    "def A5_active_vs_inactive():\n",
    "    q = \"\"\"\n",
    "    MATCH (t:Attack {stix_type:'attack-pattern'})\n",
    "    RETURN\n",
    "      sum(CASE WHEN coalesce(t.deprecated,false) OR coalesce(t.revoked,false) THEN 1 ELSE 0 END) AS inactive,\n",
    "      sum(CASE WHEN NOT coalesce(t.deprecated,false) AND NOT coalesce(t.revoked,false) THEN 1 ELSE 0 END) AS active\n",
    "    \"\"\"\n",
    "    return query(q)\n",
    "\n",
    "_print_section(\"A5 techniques active vs inactive\", A5_active_vs_inactive())\n"
   ]
  },
  {
   "cell_type": "markdown",
   "id": "d28d3447-9143-458d-af08-b4919a4ba2a3",
   "metadata": {},
   "source": [
    "## Part B — Threat-intel pivots (Who does what?)"
   ]
  },
  {
   "cell_type": "markdown",
   "id": "612ac104-5cde-4c7d-8082-10519a47a9e2",
   "metadata": {},
   "source": [
    "#### B1. Techniques used by a specific group"
   ]
  },
  {
   "cell_type": "code",
   "execution_count": 65,
   "id": "8c478833-cece-424a-a2dd-7bd3eb376bff",
   "metadata": {},
   "outputs": [
    {
     "name": "stdout",
     "output_type": "stream",
     "text": [
      "\\n=== B1 techniques used by group ===\n",
      "              tactic                                             technique\n",
      "          collection                                Data from Local System\n",
      "          collection                               Remote Email Collection\n",
      " command-and-control                                       Domain Fronting\n",
      " command-and-control                                    Dynamic Resolution\n",
      " command-and-control                                     Encrypted Channel\n",
      " command-and-control                                        External Proxy\n",
      " command-and-control                                   Hide Infrastructure\n",
      " command-and-control                                 Ingress Tool Transfer\n",
      " command-and-control                                       Multi-hop Proxy\n",
      "   credential-access                                       Hybrid Identity\n",
      "   credential-access                                           LSA Secrets\n",
      "   credential-access        Multi-Factor Authentication Request Generation\n",
      "   credential-access                                     Password Guessing\n",
      "   credential-access                                     Password Spraying\n",
      "   credential-access                              Security Account Manager\n",
      "   credential-access                        Steal Application Access Token\n",
      "   credential-access            Steal or Forge Authentication Certificates\n",
      "     defense-evasion                                        Binary Padding\n",
      "     defense-evasion                           Bypass User Account Control\n",
      "     defense-evasion                                        Cloud Accounts\n",
      "     defense-evasion                          Disable or Modify Cloud Logs\n",
      "     defense-evasion                                         File Deletion\n",
      "     defense-evasion                                        HTML Smuggling\n",
      "     defense-evasion                                       Hybrid Identity\n",
      "     defense-evasion                                        Local Accounts\n",
      "     defense-evasion                                Mark-of-the-Web Bypass\n",
      "     defense-evasion            Match Legitimate Resource Name or Location\n",
      "     defense-evasion                                                 Mshta\n",
      "     defense-evasion                                       Pass the Ticket\n",
      "     defense-evasion                                      Software Packing\n",
      "     defense-evasion                                             Timestomp\n",
      "     defense-evasion                                        Valid Accounts\n",
      "           discovery                                         Cloud Account\n",
      "           discovery                         Internet Connection Discovery\n",
      "           execution                                             Cloud API\n",
      "           execution                          Cloud Administration Command\n",
      "           execution                     Exploitation for Client Execution\n",
      "           execution                                        Malicious File\n",
      "           execution                                        Malicious Link\n",
      "           execution                                            PowerShell\n",
      "           execution                                                Python\n",
      "           execution                                        Scheduled Task\n",
      "           execution                    Windows Management Instrumentation\n",
      "      initial-access                                        Cloud Accounts\n",
      "      initial-access                     Exploit Public-Facing Application\n",
      "      initial-access                              External Remote Services\n",
      "      initial-access                                        Local Accounts\n",
      "      initial-access                              Spearphishing Attachment\n",
      "      initial-access                                    Spearphishing Link\n",
      "      initial-access                             Spearphishing via Service\n",
      "      initial-access                                  Trusted Relationship\n",
      "      initial-access                                        Valid Accounts\n",
      "    lateral-movement                                        Cloud Services\n",
      "    lateral-movement                                       Pass the Ticket\n",
      "         persistence                                Accessibility Features\n",
      "         persistence                 Additional Email Delegate Permissions\n",
      "         persistence                  Boot or Logon Initialization Scripts\n",
      "         persistence                                         Cloud Account\n",
      "         persistence                                        Cloud Accounts\n",
      "         persistence                                   Device Registration\n",
      "         persistence                              External Remote Services\n",
      "         persistence                                       Hybrid Identity\n",
      "         persistence                                        Local Accounts\n",
      "         persistence                                            RC Scripts\n",
      "         persistence                    Registry Run Keys / Startup Folder\n",
      "         persistence                                        Scheduled Task\n",
      "         persistence                                        Valid Accounts\n",
      "         persistence                                             Web Shell\n",
      "         persistence Windows Management Instrumentation Event Subscription\n",
      "privilege-escalation                                Accessibility Features\n",
      "privilege-escalation                 Additional Email Delegate Permissions\n",
      "privilege-escalation                  Boot or Logon Initialization Scripts\n",
      "privilege-escalation                           Bypass User Account Control\n",
      "privilege-escalation                                        Cloud Accounts\n",
      "privilege-escalation                                   Device Registration\n",
      "privilege-escalation                 Exploitation for Privilege Escalation\n",
      "privilege-escalation                                        Local Accounts\n",
      "privilege-escalation                                            RC Scripts\n",
      "privilege-escalation                    Registry Run Keys / Startup Folder\n",
      "privilege-escalation                                        Scheduled Task\n",
      "privilege-escalation                                        Valid Accounts\n",
      "privilege-escalation Windows Management Instrumentation Event Subscription\n",
      "      reconnaissance                                Vulnerability Scanning\n",
      "resource-development                                        Cloud Accounts\n",
      "resource-development                                  Digital Certificates\n",
      "resource-development                                        Email Accounts\n",
      "resource-development                                               Malware\n",
      "resource-development                                                  Tool\n",
      "resource-development                                          Web Services\n"
     ]
    }
   ],
   "source": [
    "def B1_group_techniques(group=DEFAULTS[\"group\"]):\n",
    "    q = \"\"\"\n",
    "    WITH toLower($group) AS g\n",
    "    MATCH (grp:Attack {stix_type:'intrusion-set'})\n",
    "    WHERE toLower(grp.name) CONTAINS g\n",
    "    MATCH (grp)-[:ATTACK_REL {rel_type:'uses'}]->(tech:Attack {stix_type:'attack-pattern'})\n",
    "    OPTIONAL MATCH (tech)-[:IN_TACTIC]->(tac:Attack {stix_type:'x-mitre-tactic'})\n",
    "    RETURN tac.shortname AS tactic, tech.name AS technique\n",
    "    ORDER BY tactic, technique\n",
    "    LIMIT 150\n",
    "    \"\"\"\n",
    "    return query(q, group=group)\n",
    "\n",
    "_print_section(\"B1 techniques used by group\", B1_group_techniques(DEFAULTS[\"group\"]))\n"
   ]
  },
  {
   "cell_type": "markdown",
   "id": "a8aaaf0f-dc28-4312-95ad-b7a1c65e32dc",
   "metadata": {},
   "source": [
    "#### B2. Software a group uses (tools & malware)"
   ]
  },
  {
   "cell_type": "code",
   "execution_count": 70,
   "id": "96545e37-da01-4b8f-8d8f-ac167d8cb696",
   "metadata": {},
   "outputs": [
    {
     "name": "stdout",
     "output_type": "stream",
     "text": [
      "\\n=== B2 software used by group ===\n",
      "   kind      software\n",
      "malware       BoomBox\n",
      "malware     CloudDuke\n",
      "malware Cobalt Strike\n",
      "malware    CosmicDuke\n",
      "malware       CozyCar\n",
      "malware     EnvyScout\n",
      "malware       FatDuke\n",
      "malware      FoggyWeb\n",
      "malware    GeminiDuke\n",
      "malware    GoldFinder\n",
      "malware       GoldMax\n",
      "malware    HAMMERTOSS\n",
      "malware      LiteDuke\n",
      "malware      MiniDuke\n",
      "malware    NativeZone\n",
      "malware     OnionDuke\n",
      "malware       POSHSPY\n",
      "malware     PinchDuke\n",
      "malware  PolyglotDuke\n",
      "malware     PowerDuke\n",
      "malware     QUIETEXIT\n",
      "malware      Raindrop\n",
      "malware       RegDuke\n",
      "malware      SUNBURST\n",
      "malware       SUNSPOT\n",
      "malware       SeaDuke\n",
      "malware         Sibot\n",
      "malware      SoreFang\n",
      "malware      TEARDROP\n",
      "malware   TrailBlazer\n",
      "malware     VaporRage\n",
      "malware      WellMail\n",
      "malware      WellMess\n",
      "malware       reGeorg\n",
      "   tool  AADInternals\n",
      "   tool        AdFind\n",
      "   tool    BloodHound\n",
      "   tool      Impacket\n",
      "   tool      Mimikatz\n",
      "   tool           Net\n",
      "   tool        PsExec\n",
      "   tool     ROADTools\n",
      "   tool       SDelete\n",
      "   tool        Sliver\n",
      "   tool    Systeminfo\n",
      "   tool      Tasklist\n",
      "   tool           Tor\n",
      "   tool      ipconfig\n",
      "   tool          meek\n"
     ]
    }
   ],
   "source": [
    "def B2_group_software(group=DEFAULTS[\"group\"]):\n",
    "    q = \"\"\"\n",
    "    WITH toLower($group) AS g\n",
    "    MATCH (grp:Attack {stix_type:'intrusion-set'})\n",
    "    WHERE toLower(grp.name) CONTAINS g\n",
    "    MATCH (grp)-[:ATTACK_REL {rel_type:'uses'}]->(s:Attack)\n",
    "    WHERE s.stix_type IN ['tool','malware']\n",
    "    RETURN s.stix_type AS kind, s.name AS software\n",
    "    ORDER BY kind, software\n",
    "    LIMIT 100\n",
    "    \"\"\"\n",
    "    return query(q, group=group)\n",
    "\n",
    "_print_section(\"B2 software used by group\", B2_group_software(DEFAULTS[\"group\"]))\n"
   ]
  },
  {
   "cell_type": "markdown",
   "id": "585a528b-666b-4b23-bd12-18fd9b18aeb8",
   "metadata": {},
   "source": [
    "#### B3. Techniques used via software (2-hop)"
   ]
  },
  {
   "cell_type": "code",
   "execution_count": 76,
   "id": "976b4fbd-afe1-494b-a0a5-28d622d979ae",
   "metadata": {},
   "outputs": [
    {
     "name": "stdout",
     "output_type": "stream",
     "text": [
      "\\n=== B3 techniques via software ===\n",
      "     software                                                                                                                                                                                                                                                                                                                                                                                                                                                                                                                                                                                                                                                                                                                                                                                                                                                                                                                                                                                                                                                                                                                                                                                                                                                                                                                                                                                                                                                                                                                                                                                                                                                techniques\n",
      "Cobalt Strike [Windows Management Instrumentation, Screen Capture, Rundll32, Standard Encoding, Keylogging, JavaScript, Bypass User Account Control, Sudo and Sudo Caching, Security Account Manager, DNS, Domain Account, Symmetric Cryptography, Windows Service, Domain Groups, SSH, System Service Discovery, Code Signing, Network Share Discovery, Native API, Data from Local System, Deobfuscate/Decode Files or Information, Process Injection, Timestomp, Reflective Code Loading, Scheduled Transfer, SMB/Windows Admin Shares, Protocol Tunneling, Browser Session Hijacking, Modify Registry, Windows Remote Management, LSASS Memory, Distributed Component Object Model, System Network Configuration Discovery, Office Template Macros, File and Directory Discovery, System Network Connections Discovery, Token Impersonation/Theft, Make and Impersonate Token, Process Discovery, Parent PID Spoofing, PowerShell, File Transfer Protocols, Local Groups, Disable or Modify Tools, Indicator Removal from Tools, Process Hollowing, Exploitation for Privilege Escalation, Obfuscated Files or Information, Exploitation for Client Execution, Asymmetric Cryptography, Non-Application Layer Protocol, Protocol or Service Impersonation, Query Registry, Data Transfer Size Limits, Domain Accounts, BITS Jobs, Domain Fronting, Python, Windows Command Shell, Web Protocols, Visual Basic, Remote System Discovery, Network Service Discovery, Software Discovery, Pass the Hash, Ingress Tool Transfer, Remote Desktop Protocol, Service Execution, Dynamic-link Library Injection, Internal Proxy, Local Accounts, Process Argument Spoofing]\n",
      "     SUNBURST                                                                                                                                                                                                                                                                                                                                                                                                                                                                                                                                                                                                                                                                                                                                                                        [Windows Management Instrumentation, System Owner/User Discovery, Rundll32, Standard Encoding, DNS, Match Legitimate Resource Name or Location, Symmetric Cryptography, System Checks, System Service Discovery, Code Signing, System Information Discovery, Clear Network Connection History and Configurations, Data from Local System, Time Based Evasion, Modify Registry, Image File Execution Options Injection, System Network Configuration Discovery, Indicator Removal, File and Directory Discovery, Dynamic Resolution, Process Discovery, Disable or Modify Tools, Indicator Removal from Tools, Obfuscated Files or Information, Protocol or Service Impersonation, Query Registry, Security Software Discovery, Clear Persistence, File Deletion, Web Protocols, Visual Basic, Ingress Tool Transfer, Steganography, System Time Discovery, Junk Data, Compression]\n",
      "       Sliver                                                                                                                                                                                                                                                                                                                                                                                                                                                                                                                                                                                                                                                                                                                                                                                                                                                                                                                                                                                                                                                                                                                 [Screen Capture, Standard Encoding, Encrypted/Encoded File, Bypass User Account Control, DNS, Symmetric Cryptography, Application Layer Protocol, Process Injection, LSASS Memory, System Network Configuration Discovery, Golden Ticket, File and Directory Discovery, System Network Connections Discovery, Exfiltration Over C2 Channel, PowerShell, Obfuscated Files or Information, Asymmetric Cryptography, Compile After Delivery, Access Token Manipulation, Web Protocols, Ingress Tool Transfer, Steganography, Internal Proxy]\n",
      " AADInternals                                                                                                                                                                                                                                                                                                                                                                                                                                                                                                                                                                                                                                                                                                                                                                                                                                                                                                                                                                                                                                                                                                                                                                [Cloud Groups, LSA Secrets, SAML Tokens, Trust Modification, Spearphishing Link, Data from Cloud Storage, Hybrid Identity, Modify Registry, Private Keys, Email Addresses, Steal or Forge Authentication Certificates, Device Registration, Credentials In Files, Steal Application Access Token, Cloud Account, PowerShell, Exfiltration Over Alternative Protocol, Multi-Factor Authentication, Silver Ticket, Cloud Administration Command, Cloud Service Discovery, Domain Properties]\n",
      "     FoggyWeb                                                                                                                                                                                                                                                                                                                                                                                                                                                                                                                                                                                                                                                                                                                                                                                                                                                                                                                                                                                                                                                                                                                                                 [Shared Modules, Encrypted/Encoded File, Archive via Custom Method, Match Legitimate Resource Name or Location, Symmetric Cryptography, DLL, Network Sniffing, Native API, Data from Local System, Deobfuscate/Decode Files or Information, Archive via Library, Masquerading, Reflective Code Loading, Use Alternate Authentication Material, Private Keys, File and Directory Discovery, Process Discovery, Exfiltration Over C2 Channel, Compile After Delivery, Web Protocols, Ingress Tool Transfer]\n",
      "      FatDuke                                                                                                                                                                                                                                                                                                                                                                                                                                                                                                                                                                                                                                                                                                                                                                                                                                                                                                                                                                                                                                                                                                                                                                         [Rundll32, Symmetric Cryptography, System Information Discovery, Native API, Data from Local System, Deobfuscate/Decode Files or Information, Masquerading, Time Based Evasion, Junk Code Insertion, System Network Configuration Discovery, File and Directory Discovery, Process Discovery, PowerShell, Registry Run Keys / Startup Folder, Obfuscated Files or Information, Query Registry, File Deletion, Software Packing, Web Protocols, Fallback Channels, Internal Proxy]\n",
      "   CosmicDuke                                                                                                                                                                                                                                                                                                                                                                                                                                                                                                                                                                                                                                                                                                                                                                                                                                                                                                                                                                                                                                                                                                                                                                       [Scheduled Task, Screen Capture, Keylogging, Security Account Manager, Data from Removable Media, Local Email Collection, LSA Secrets, Symmetric Cryptography, Windows Service, Clipboard Data, Data from Local System, Credentials from Password Stores, Credentials from Web Browsers, Automated Exfiltration, File and Directory Discovery, Data from Network Shared Drive, Exploitation for Privilege Escalation, Web Protocols, Exfiltration Over Unencrypted Non-C2 Protocol]\n",
      "        Sibot                                                                                                                                                                                                                                                                                                                                                                                                                                                                                                                                                                                                                                                                                                                                                                                                                                                                                                                                                                                                                                                                                                                                                                                                                                       [Scheduled Task, Windows Management Instrumentation, Fileless Storage, Rundll32, Match Legitimate Resource Name or Location, Deobfuscate/Decode Files or Information, Modify Registry, System Network Configuration Discovery, Indicator Removal, System Network Connections Discovery, Web Service, Mshta, Query Registry, Command Obfuscation, File Deletion, Web Protocols, Visual Basic, Ingress Tool Transfer]\n",
      "      GoldMax                                                                                                                                                                                                                                                                                                                                                                                                                                                                                                                                                                                                                                                                                                                                                                                                                                                                                                                                                                                                                                                                                                                                                                                                             [Scheduled Task, Encrypted/Encoded File, Match Legitimate Resource Name or Location, System Checks, Cron, Deobfuscate/Decode Files or Information, Ignore Process Interrupts, Time Based Evasion, System Network Configuration Discovery, Masquerade Task or Service, Exfiltration Over C2 Channel, Asymmetric Cryptography, Windows Command Shell, Software Packing, Web Protocols, Ingress Tool Transfer, System Time Discovery, Junk Data]\n",
      "     Mimikatz                                                                                                                                                                                                                                                                                                                                                                                                                                                                                                                                                                                                                                                                                                                                                                                                                                                                                                                                                                                                                                                                                                                                                                                                                                                                       [Security Account Manager, LSA Secrets, Credentials from Password Stores, Security Support Provider, Rogue Domain Controller, Credentials from Web Browsers, Private Keys, LSASS Memory, Golden Ticket, Pass the Ticket, Steal or Forge Authentication Certificates, Account Manipulation, SID-History Injection, Silver Ticket, Windows Credential Manager, Pass the Hash, DCSync]\n",
      "      BoomBox                                                                                                                                                                                                                                                                                                                                                                                                                                                                                                                                                                                                                                                                                                                                                                                                                                                                                                                                                                                                                                                                                                                                                                                                                                                                    [System Owner/User Discovery, Rundll32, Domain Account, Malicious File, System Information Discovery, Deobfuscate/Decode Files or Information, Masquerading, Email Account, File and Directory Discovery, Web Service, Execution Guardrails, Registry Run Keys / Startup Folder, Obfuscated Files or Information, Exfiltration to Cloud Storage, Web Protocols, Ingress Tool Transfer]\n",
      "      SeaDuke                                                                                                                                                                                                                                                                                                                                                                                                                                                                                                                                                                                                                                                                                                                                                                                                                                                                                                                                                                                                                                                                                                                                                                                                                                                                                                    [Standard Encoding, Symmetric Cryptography, Archive via Library, Shortcut Modification, Pass the Ticket, Windows Management Instrumentation Event Subscription, PowerShell, Registry Run Keys / Startup Folder, Valid Accounts, Remote Email Collection, Windows Command Shell, File Deletion, Software Packing, Web Protocols, Ingress Tool Transfer]\n",
      "    PowerDuke                                                                                                                                                                                                                                                                                                                                                                                                                                                                                                                                                                                                                                                                                                                                                                                                                                                                                                                                                                                                                                                                                                                                                                                                                                                                               [System Owner/User Discovery, Rundll32, System Information Discovery, Application Window Discovery, System Network Configuration Discovery, File and Directory Discovery, Process Discovery, Registry Run Keys / Startup Folder, Steganography, Windows Command Shell, Data Destruction, File Deletion, Ingress Tool Transfer, NTFS File Attributes, System Time Discovery]\n",
      "     WellMess                                                                                                                                                                                                                                                                                                                                                                                                                                                                                                                                                                                                                                                                                                                                                                                                                                                                                                                                                                                                                                                                                                                                                                                                                                                                                                          [System Owner/User Discovery, Standard Encoding, DNS, Symmetric Cryptography, Domain Groups, System Information Discovery, Data from Local System, Deobfuscate/Decode Files or Information, System Network Configuration Discovery, PowerShell, Asymmetric Cryptography, Windows Command Shell, Web Protocols, Ingress Tool Transfer, Junk Data]\n",
      "          Net                                                                                                                                                                                                                                                                                                                                                                                                                                                                                                                                                                                                                                                                                                                                                                                                                                                                                                                                                                                                                                                                                                                                                                                                                                                                                                        [Domain Account, Local Account, Domain Groups, System Service Discovery, Network Share Discovery, Additional Local or Domain Groups, SMB/Windows Admin Shares, System Network Connections Discovery, Local Groups, Network Share Connection Removal, Password Policy Discovery, Remote System Discovery, Service Execution, System Time Discovery]\n",
      "      CozyCar                                                                                                                                                                                                                                                                                                                                                                                                                                                                                                                                                                                                                                                                                                                                                                                                                                                                                                                                                                                                                                                                                                                                                                                                                                                                                                                [Scheduled Task, Rundll32, Encrypted/Encoded File, Security Account Manager, Windows Service, System Information Discovery, LSASS Memory, Virtualization/Sandbox Evasion, Registry Run Keys / Startup Folder, Rename Legitimate Utilities, Bidirectional Communication, Security Software Discovery, Windows Command Shell, Web Protocols]\n",
      "    EnvyScout                                                                                                                                                                                                                                                                                                                                                                                                                                                                                                                                                                                                                                                                                                                                                                                                                                                                                                                                                                                                                                                                                                                                                                                                                                                                                                                                   [Rundll32, Encrypted/Encoded File, JavaScript, Malicious File, Spearphishing Attachment, System Information Discovery, Data from Local System, Deobfuscate/Decode Files or Information, Masquerading, Execution Guardrails, Forced Authentication, Windows Command Shell, HTML Smuggling, Hidden Files and Directories]\n",
      "     LiteDuke                                                                                                                                                                                                                                                                                                                                                                                                                                                                                                                                                                                                                                                                                                                                                                                                                                                                                                                                                                                                                                                                                                                                                                                                                                                                                                                   [System Owner/User Discovery, System Information Discovery, Deobfuscate/Decode Files or Information, Time Based Evasion, System Network Configuration Discovery, Registry Run Keys / Startup Folder, Steganography, Query Registry, Security Software Discovery, File Deletion, Software Packing, Web Protocols, Ingress Tool Transfer]\n",
      "     SoreFang                                                                                                                                                                                                                                                                                                                                                                                                                                                                                                                                                                                                                                                                                                                                                                                                                                                                                                                                                                                                                                                                                                                                                                                                                                                                                                                  [Scheduled Task, Domain Account, Local Account, Domain Groups, System Information Discovery, Deobfuscate/Decode Files or Information, Exploit Public-Facing Application, System Network Configuration Discovery, File and Directory Discovery, Process Discovery, Obfuscated Files or Information, Web Protocols, Ingress Tool Transfer]\n",
      "      SUNSPOT                                                                                                                                                                                                                                                                                                                                                                                                                                                                                                                                                                                                                                                                                                                                                                                                                                                                                                                                                                                                                                                                                                                                                                                                                                                                                                                         [Match Legitimate Resource Name or Location, Stored Data Manipulation, Native API, Deobfuscate/Decode Files or Information, Mutual Exclusion, File and Directory Discovery, Execution Guardrails, Process Discovery, Obfuscated Files or Information, Compromise Software Supply Chain, File Deletion, Access Token Manipulation]\n"
     ]
    }
   ],
   "source": [
    "def B3_group_techniques_via_software(group=DEFAULTS[\"group\"]):\n",
    "    q = \"\"\"\n",
    "    WITH toLower($group) AS g\n",
    "    MATCH (grp:Attack {stix_type:'intrusion-set'})\n",
    "    WHERE toLower(grp.name) CONTAINS g\n",
    "    MATCH (grp)-[:ATTACK_REL {rel_type:'uses'}]->(s:Attack)\n",
    "    WHERE s.stix_type IN ['tool','malware']\n",
    "    MATCH (s)-[:ATTACK_REL {rel_type:'uses'}]->(tech:Attack {stix_type:'attack-pattern'})\n",
    "    WITH s, collect(DISTINCT tech.name) AS techniques\n",
    "    RETURN s.name AS software, techniques\n",
    "    ORDER BY size(techniques) DESC\n",
    "    LIMIT 20\n",
    "    \"\"\"\n",
    "    return query(q, group=group)\n",
    "\n",
    "_print_section(\"B3 techniques via software\", B3_group_techniques_via_software(DEFAULTS[\"group\"]))\n"
   ]
  },
  {
   "cell_type": "markdown",
   "id": "d19267e5-7cc6-4857-971d-b348744c186f",
   "metadata": {},
   "source": [
    "#### B4. Which groups use a given technique?"
   ]
  },
  {
   "cell_type": "code",
   "execution_count": 79,
   "id": "780c8c3b-0302-48da-b0fa-4f79931a8f29",
   "metadata": {},
   "outputs": [
    {
     "name": "stdout",
     "output_type": "stream",
     "text": [
      "\\n=== B4 groups that use a technique ===\n",
      "            technique                                                                                                      groups\n",
      "OS Credential Dumping [Suckfly, Ember Bear, APT28, APT39, APT32, Leviathan, BlackByte, Tonto Team, Axiom, Sowbug, Poseidon Group]\n"
     ]
    }
   ],
   "source": [
    "def B4_technique_users(self, tech=DEFAULTS[\"tech\"]):\n",
    "    q = \"\"\"\n",
    "    WITH toLower($tech) AS t\n",
    "    MATCH (tech:Attack {stix_type:'attack-pattern'})\n",
    "    WHERE toLower(tech.name) CONTAINS t\n",
    "    MATCH (grp:Attack {stix_type:'intrusion-set'})-[:ATTACK_REL {rel_type:'uses'}]->(tech)\n",
    "    RETURN tech.name AS technique, collect(DISTINCT grp.name) AS groups\n",
    "    LIMIT 10\n",
    "    \"\"\"\n",
    "    return query(q, tech=tech)\n",
    "\n",
    "_print_section(\"B4 groups that use a technique\", B4_technique_users(DEFAULTS[\"tech\"]))\n"
   ]
  },
  {
   "cell_type": "markdown",
   "id": "ef9b7655-23cf-4ae0-98bb-0a4ee8ff19f5",
   "metadata": {},
   "source": [
    "#### B5. Top groups by number of techniques"
   ]
  },
  {
   "cell_type": "code",
   "execution_count": 83,
   "id": "958c3853-887f-4f72-a685-9f1be33835fb",
   "metadata": {},
   "outputs": [
    {
     "name": "stdout",
     "output_type": "stream",
     "text": [
      "\\n=== B5 top groups by techniques ===\n",
      "            group  techniques\n",
      "          Kimsuky         103\n",
      "    Lazarus Group          92\n",
      "            APT28          91\n",
      "            APT41          82\n",
      "     Volt Typhoon          81\n",
      "    Sandworm Team          79\n",
      "      Magic Hound          79\n",
      "            APT32          78\n",
      "           OilRig          76\n",
      "            Turla          68\n",
      "            APT29          66\n",
      "    Wizard Spider          64\n",
      "          Chimera          59\n",
      "       MuddyWater          58\n",
      "Threat Group-3390          57\n",
      "        Dragonfly          56\n",
      "  Gamaredon Group          55\n",
      "            APT38          55\n",
      "          TeamTNT          54\n",
      "             FIN7          53\n"
     ]
    }
   ],
   "source": [
    "def B5_top_groups_by_techniques():\n",
    "    q = \"\"\"\n",
    "    MATCH (g:Attack {stix_type:'intrusion-set'})-[:ATTACK_REL {rel_type:'uses'}]->(t:Attack {stix_type:'attack-pattern'})\n",
    "    RETURN g.name AS group, count(DISTINCT t) AS techniques\n",
    "    ORDER BY techniques DESC LIMIT 20\n",
    "    \"\"\"\n",
    "    return query(q)\n",
    "\n",
    "_print_section(\"B5 top groups by techniques\", B5_top_groups_by_techniques())\n"
   ]
  },
  {
   "cell_type": "markdown",
   "id": "4ffd205a-177f-4107-9ec7-53981d38ad4e",
   "metadata": {},
   "source": [
    "#### B6. Shortest connection between two groups (via techniques/software)"
   ]
  },
  {
   "cell_type": "code",
   "execution_count": 88,
   "id": "e511bef7-9f25-40be-a40b-9ee80fa54e57",
   "metadata": {},
   "outputs": [
    {
     "name": "stdout",
     "output_type": "stream",
     "text": [
      "\\n=== B6 shortest connection between groups ===\n",
      "                                                         p\n",
      "((rel_type, description, id), (rel_type, description, id))\n"
     ]
    }
   ],
   "source": [
    "def B6_shortest_connection_between_groups(g1=DEFAULTS[\"g1\"], g2=DEFAULTS[\"g2\"]):\n",
    "    q = \"\"\"\n",
    "    MATCH (a:Attack {stix_type:'intrusion-set'}), (b:Attack {stix_type:'intrusion-set'})\n",
    "    WHERE toLower(a.name) CONTAINS toLower($g1) AND toLower(b.name) CONTAINS toLower($g2)\n",
    "    MATCH p = shortestPath((a)-[:ATTACK_REL*..6]-(b))\n",
    "    RETURN p\n",
    "    \"\"\"\n",
    "    return query(q, g1=g1, g2=g2)\n",
    "\n",
    "\n",
    "_print_section(\"B6 shortest connection between groups\", B6_shortest_connection_between_groups(DEFAULTS[\"g1\"], DEFAULTS[\"g2\"]))\n"
   ]
  },
  {
   "cell_type": "markdown",
   "id": "17d53575-18a7-4512-85d0-736c22e9ae65",
   "metadata": {},
   "source": [
    "## Part C — Defense: mitigations & detections"
   ]
  },
  {
   "cell_type": "markdown",
   "id": "1e5cf11d-b64a-4c10-83d9-4de8665ab735",
   "metadata": {},
   "source": [
    "##### C1. Mitigations for a group’s techniques"
   ]
  },
  {
   "cell_type": "code",
   "execution_count": 92,
   "id": "9e1b0a15-3163-4dc4-a154-431605d7d283",
   "metadata": {},
   "outputs": [
    {
     "name": "stdout",
     "output_type": "stream",
     "text": [
      "\\n=== C1 mitigations for group's techniques ===\n",
      "(empty)\n"
     ]
    }
   ],
   "source": [
    "def C1_group_mitigations(group=DEFAULTS[\"group\"]):\n",
    "    q = \"\"\"\n",
    "    WITH toLower($group) AS g\n",
    "    MATCH (grp:Attack {stix_type:'intrusion-set'}) WHERE toLower(grp.name) CONTAINS g\n",
    "    MATCH (grp)-[:ATTACK_REL {rel_type:'uses'}]->(tech:Attack {stix_type:'attack-pattern'})\n",
    "    MATCH (co:Attack {stix_type:'course-of-action'})<-[:ATTACK_REL {rel_type:'mitigates'}]-(tech)\n",
    "    RETURN tech.name AS technique, collect(DISTINCT co.name) AS mitigations\n",
    "    ORDER BY technique LIMIT 50\n",
    "    \"\"\"\n",
    "    return query(q, group=group)\n",
    "\n",
    "_print_section(\"C1 mitigations for group's techniques\", C1_group_mitigations(DEFAULTS[\"group\"]))\n"
   ]
  },
  {
   "cell_type": "markdown",
   "id": "3eebf053-6cc9-4f68-8aa7-8de76264fc6c",
   "metadata": {},
   "source": [
    "#### C2. Coverage gaps: techniques used by the group with no mitigations"
   ]
  },
  {
   "cell_type": "code",
   "execution_count": 96,
   "id": "19804e48-5b87-47ff-bb34-be65db5c965c",
   "metadata": {},
   "outputs": [
    {
     "name": "stdout",
     "output_type": "stream",
     "text": [
      "\\n=== C2 mitigation gaps ===\n",
      "                                   unmitigated\n",
      "                        Accessibility Features\n",
      "         Additional Email Delegate Permissions\n",
      "                                Binary Padding\n",
      "          Boot or Logon Initialization Scripts\n",
      "                   Bypass User Account Control\n",
      "                                     Cloud API\n",
      "                                 Cloud Account\n",
      "                                 Cloud Account\n",
      "                                Cloud Accounts\n",
      "                                Cloud Accounts\n",
      "                  Cloud Administration Command\n",
      "                                Cloud Services\n",
      "                        Data from Local System\n",
      "                           Device Registration\n",
      "                          Digital Certificates\n",
      "                  Disable or Modify Cloud Logs\n",
      "                               Domain Fronting\n",
      "                            Dynamic Resolution\n",
      "                                Email Accounts\n",
      "                             Encrypted Channel\n",
      "             Exploit Public-Facing Application\n",
      "             Exploitation for Client Execution\n",
      "         Exploitation for Privilege Escalation\n",
      "                                External Proxy\n",
      "                      External Remote Services\n",
      "                                 File Deletion\n",
      "                                HTML Smuggling\n",
      "                           Hide Infrastructure\n",
      "                               Hybrid Identity\n",
      "                         Ingress Tool Transfer\n",
      "                 Internet Connection Discovery\n",
      "                                   LSA Secrets\n",
      "                                Local Accounts\n",
      "                                Malicious File\n",
      "                                Malicious Link\n",
      "                                       Malware\n",
      "                        Mark-of-the-Web Bypass\n",
      "    Match Legitimate Resource Name or Location\n",
      "                                         Mshta\n",
      "Multi-Factor Authentication Request Generation\n",
      "                               Multi-hop Proxy\n",
      "                               Pass the Ticket\n",
      "                             Password Guessing\n",
      "                             Password Spraying\n",
      "                                    PowerShell\n",
      "                                        Python\n",
      "                                    RC Scripts\n",
      "            Registry Run Keys / Startup Folder\n",
      "                       Remote Email Collection\n",
      "                                Scheduled Task\n"
     ]
    }
   ],
   "source": [
    "def C2_group_mitigation_gaps(group=DEFAULTS[\"group\"]):\n",
    "    q = \"\"\"\n",
    "    WITH toLower($group) AS g\n",
    "    MATCH (grp:Attack {stix_type:'intrusion-set'}) WHERE toLower(grp.name) CONTAINS g\n",
    "    MATCH (grp)-[:ATTACK_REL {rel_type:'uses'}]->(tech:Attack {stix_type:'attack-pattern'})\n",
    "    OPTIONAL MATCH (co:Attack {stix_type:'course-of-action'})<-[:ATTACK_REL {rel_type:'mitigates'}]-(tech)\n",
    "    WITH tech, count(co) AS c WHERE c = 0\n",
    "    RETURN tech.name AS unmitigated ORDER BY unmitigated LIMIT 50\n",
    "    \"\"\"\n",
    "    return query(q, group=group)\n",
    "\n",
    "_print_section(\"C2 mitigation gaps\", C2_group_mitigation_gaps(DEFAULTS[\"group\"]))"
   ]
  },
  {
   "cell_type": "markdown",
   "id": "327c69df-beb4-47e2-9139-68124c0bf7ef",
   "metadata": {},
   "source": [
    "#### C3. Detection coverage (if your dataset has data components)"
   ]
  },
  {
   "cell_type": "code",
   "execution_count": 98,
   "id": "c8bfe9ff-7760-41e1-a2ec-a6b3597b7954",
   "metadata": {},
   "outputs": [
    {
     "name": "stdout",
     "output_type": "stream",
     "text": [
      "\\n=== C3 detection coverage (top techniques) ===\n",
      "                          technique  detectors\n",
      "                    Impair Defenses         19\n",
      "Modify Cloud Compute Infrastructure         15\n",
      "                  Indicator Removal         14\n",
      "      Modify Authentication Process         13\n",
      "                     Hide Artifacts         13\n",
      "                       Masquerading         12\n",
      "    Create or Modify System Process         11\n",
      "                     User Execution         11\n",
      "  Boot or Logon Autostart Execution         10\n",
      "                    Windows Service         10\n",
      "    Obfuscated Files or Information         10\n",
      "              OS Credential Dumping         10\n",
      "                   Data Destruction         10\n",
      "        System Owner/User Discovery          9\n",
      "                 Resource Hijacking          9\n",
      "          Event Triggered Execution          9\n",
      "                      Input Capture          9\n",
      "                     Domain Account          8\n",
      "  Abuse Elevation Control Mechanism          8\n",
      "                  Clear Persistence          8\n",
      "                    Remote Services          8\n",
      "         Office Application Startup          8\n",
      "                        Pre-OS Boot          8\n",
      "                      Local Account          8\n",
      "            Disable or Modify Tools          8\n"
     ]
    }
   ],
   "source": [
    "def C3_detection_coverage_top(limit=25):\n",
    "    q = \"\"\"\n",
    "    MATCH (tech:Attack {stix_type:'attack-pattern'})\n",
    "    OPTIONAL MATCH (dc:Attack {stix_type:'x-mitre-data-component'})-[:ATTACK_REL {rel_type:'detects'}]->(tech)\n",
    "    RETURN tech.name AS technique, count(dc) AS detectors\n",
    "    ORDER BY detectors DESC\n",
    "    LIMIT $limit\n",
    "    \"\"\"\n",
    "    return query(q, limit=limit)\n",
    "\n",
    "_print_section(\"C3 detection coverage (top techniques)\", C3_detection_coverage_top(25))\n"
   ]
  },
  {
   "cell_type": "markdown",
   "id": "99ec2bfa-b8ed-40b8-b5ae-4ab6e431f11e",
   "metadata": {},
   "source": [
    "#### C4. Data components & sources that detect a named technique"
   ]
  },
  {
   "cell_type": "code",
   "execution_count": 103,
   "id": "2f486d28-9bc9-45d7-95eb-30d873a5c596",
   "metadata": {},
   "outputs": [
    {
     "name": "stdout",
     "output_type": "stream",
     "text": [
      "\\n=== C4 data components/sources for technique ===\n",
      "            tech.name                                                                                                                                                                                                 data_components data_sources\n",
      "OS Credential Dumping [Network Traffic Content, Active Directory Object Access, Windows Registry Key Access, Process Creation, Process Access, File Access, Network Traffic Flow, Command Execution, File Creation, OS API Execution]           []\n"
     ]
    }
   ],
   "source": [
    "def C4_detections_for_tech(tech=DEFAULTS[\"tech\"]):\n",
    "    q = \"\"\"\n",
    "    WITH toLower($tech) AS t\n",
    "    MATCH (tech:Attack {stix_type:'attack-pattern'}) WHERE toLower(tech.name) CONTAINS t\n",
    "    OPTIONAL MATCH (dc:Attack {stix_type:'x-mitre-data-component'})-[:ATTACK_REL {rel_type:'detects'}]->(tech)\n",
    "    OPTIONAL MATCH (ds:Attack {stix_type:'x-mitre-data-source'})-[:ATTACK_REL {rel_type:'detects'}]->(tech)\n",
    "    RETURN tech.name, collect(DISTINCT dc.name) AS data_components, collect(DISTINCT ds.name) AS data_sources\n",
    "    \"\"\"\n",
    "    return query(q, tech=tech)\n",
    "\n",
    "_print_section(\"C4 data components/sources for technique\", C4_detections_for_tech(DEFAULTS[\"tech\"]))\n"
   ]
  },
  {
   "cell_type": "markdown",
   "id": "431dfb38-4993-4d30-a8de-14c32b1801a3",
   "metadata": {},
   "source": [
    "### Part D — Structure & taxonomy (tactics, subtechniques, platforms)"
   ]
  },
  {
   "cell_type": "markdown",
   "id": "3974f98c-3031-40c8-86be-d4f5374f04ce",
   "metadata": {},
   "source": [
    "#### D1. Technique ↔ tactic mapping for a named tactic"
   ]
  },
  {
   "cell_type": "code",
   "execution_count": 108,
   "id": "163b108e-cece-4a9f-b935-230cea3e35a7",
   "metadata": {},
   "outputs": [
    {
     "name": "stdout",
     "output_type": "stream",
     "text": [
      "\\n=== D1 tactic mapping ===\n",
      "         tactic                                                                                                                                                                                                                                                                                                                                                                                                                                                                                                                                                                                    sample_techniques  total\n",
      "defense-evasion [Extra Window Memory Injection, Socket Filters, Indicator Removal from Tools, Fileless Storage, Rundll32, Hidden Window, Embedded Payloads, Plist Modification, Pluggable Authentication Modules, Revert Cloud Instance, HISTCONTROL, File/Path Exclusions, Linux and Mac File and Directory Permissions Modification, PubPrn, Path Interception by PATH Environment Variable, Direct Volume Access, Modify Cloud Resource Hierarchy, Email Hiding Rules, Encrypted/Encoded File, Rootkit, Component Firmware, Double File Extension, Bypass User Account Control, Timestomp, Sudo and Sudo Caching]    258\n"
     ]
    }
   ],
   "source": [
    "def D1_tactic_mapping(tactic=DEFAULTS[\"tactic\"]):\n",
    "    q = \"\"\"\n",
    "    WITH toLower($tactic) AS tac\n",
    "    MATCH (t:Attack {stix_type:'x-mitre-tactic'})\n",
    "    WHERE toLower(t.shortname) = tac OR toLower(t.name) CONTAINS tac\n",
    "    MATCH (tech:Attack {stix_type:'attack-pattern'})-[:IN_TACTIC]->(t)\n",
    "    RETURN t.shortname AS tactic, collect(tech.name)[0..25] AS sample_techniques, count(tech) AS total\n",
    "    \"\"\"\n",
    "    return query(q, tactic=tactic)\n",
    "\n",
    "_print_section(\"D1 tactic mapping\", D1_tactic_mapping(DEFAULTS[\"tactic\"]))"
   ]
  },
  {
   "cell_type": "markdown",
   "id": "da4ce78c-d509-4442-9fdf-3efac65f27f9",
   "metadata": {},
   "source": [
    "#### D2. Parent technique → subtechniques"
   ]
  },
  {
   "cell_type": "code",
   "execution_count": 111,
   "id": "215de039-859f-40b2-934c-024b4ccda413",
   "metadata": {},
   "outputs": [
    {
     "name": "stdout",
     "output_type": "stream",
     "text": [
      "\\n=== D2 parent -> subtechniques ===\n",
      "                        technique                                                                                                                                                                                                                                                                                                                                                                                               subtechniques\n",
      "  Obfuscated Files or Information                                                                 [Fileless Storage, Embedded Payloads, Encrypted/Encoded File, Stripped Payloads, Binary Padding, Junk Code Insertion, SVG Smuggling, LNK Icon Smuggling, Indicator Removal from Tools, Polymorphic Code, Steganography, Compile After Delivery, HTML Smuggling, Command Obfuscation, Software Packing, Dynamic API Resolution, Compression]\n",
      "        Event Triggered Execution [PowerShell Profile, LC_LOAD_DYLIB Addition, Application Shimming, Trap, Image File Execution Options Injection, Accessibility Features, AppCert DLLs, Windows Management Instrumentation Event Subscription, Change Default File Association, Emond, Unix Shell Configuration Modification, Component Object Model Hijacking, AppInit DLLs, Screensaver, Installer Packages, Udev Rules, Netsh Helper DLL]\n",
      "Boot or Logon Autostart Execution                                                                                                 [Active Setup, Print Processors, Port Monitors, Shortcut Modification, Security Support Provider, Time Providers, Winlogon Helper DLL, Login Items, Registry Run Keys / Startup Folder, Kernel Modules and Extensions, Authentication Package, XDG Autostart Entries, Re-opened Applications, LSASS Driver]\n",
      "    System Binary Proxy Execution                                                                                                                                                                                                                                      [Rundll32, Mavinject, InstallUtil, Msiexec, CMSTP, Control Panel, Electron Applications, Odbcconf, Verclsid, Mshta, Compiled HTML File, Regsvr32, Regsvcs/Regasm, MMC]\n",
      "                   Hide Artifacts                                                                                                               [File/Path Exclusions, Email Hiding Rules, Ignore Process Interrupts, Bind Mounts, Extended Attributes, Hidden Users, Resource Forking, Run Virtual Instance, VBA Stomping, Hidden Window, Hidden File System, Hidden Files and Directories, NTFS File Attributes, Process Argument Spoofing]\n",
      "            Hijack Execution Flow                        [Path Interception by PATH Environment Variable, Services Registry Permissions Weakness, DLL, AppDomainManager, Path Interception by Search Order Hijacking, Dynamic Linker Hijacking, Executable Installer File Permissions Weakness, Services File Permissions Weakness, KernelCallbackTable, Path Interception by Unquoted Path, DLL Side-Loading, Dylib Hijacking, COR_PROFILER]\n",
      "                Process Injection                                                                                                                     [Extra Window Memory Injection, Thread Execution Hijacking, Process Doppelgänging, Asynchronous Procedure Call, Portable Executable Injection, VDSO Hijacking, Process Hollowing, Proc Memory, Thread Local Storage, Ptrace System Calls, ListPlanting, Dynamic-link Library Injection]\n",
      "Command and Scripting Interpreter                                                                                                                                                                                                                                     [JavaScript, AppleScript, AutoHotKey & AutoIT, Cloud API, Network Device CLI, PowerShell, Unix Shell, Lua, Python, Windows Command Shell, Hypervisor CLI, Visual Basic]\n",
      "                  Impair Defenses                                                                                            [Safe Mode Boot, Disable Windows Event Logging, Disable or Modify System Firewall, Disable or Modify Linux Audit System, Indicator Blocking, Disable or Modify Cloud Firewall, Downgrade Attack, Impair Command History Logging, Disable or Modify Tools, Spoof Security Alerting, Disable or Modify Cloud Logs]\n",
      "                     Masquerading                                                                                                         [Double File Extension, Match Legitimate Resource Name or Location, Masquerade File Type, Break Process Trees, Overwrite Process Arguments, Right-to-Left Override, Masquerade Task or Service, Invalid Code Signature, Rename Legitimate Utilities, Masquerade Account Name, Space after Filename]\n",
      "                Indicator Removal                                                                                                                                                 [Clear Linux or Mac System Logs, Clear Network Connection History and Configurations, Clear Command History, Clear Mailbox Data, Timestomp, Clear Windows Event Logs, Network Share Connection Removal, Relocate Malware, Clear Persistence, File Deletion]\n",
      "    Modify Authentication Process                                                                                                                                                            [Pluggable Authentication Modules, Password Filter DLL, Hybrid Identity, Network Provider DLL, Multi-Factor Authentication, Conditional Access Policies, Domain Controller Authentication, Reversible Encryption, Network Device Authentication]\n",
      "        Compromise Infrastructure                                                                                                                                                                                                                                                                                                    [Network Devices, Virtual Private Server, Botnet, Web Services, DNS Server, Serverless, Server, Domains]\n",
      "            OS Credential Dumping                                                                                                                                                                                                                                                                [Security Account Manager, LSA Secrets, Proc Filesystem, LSASS Memory, Cached Domain Credentials, /etc/passwd and /etc/shadow, NTDS, DCSync]\n",
      "                  Remote Services                                                                                                                                                                                                                                   [VNC, SSH, Direct Cloud VM Connections, SMB/Windows Admin Shares, Windows Remote Management, Distributed Component Object Model, Cloud Services, Remote Desktop Protocol]\n",
      "            Unsecured Credentials                                                                                                                                                                                                                                            [Cloud Instance Metadata API, Credentials in Registry, Private Keys, Bash History, Credentials In Files, Group Policy Preferences, Chat Messages, Container API]\n",
      "           Acquire Infrastructure                                                                                                                                                                                                                                                                                                       [Serverless, Malvertising, DNS Server, Botnet, Domains, Server, Virtual Private Server, Web Services]\n",
      "             Account Manipulation                                                                                                                                                                                              [Additional Cloud Roles, Additional Container Cluster Roles, Additional Local or Domain Groups, SSH Authorized Keys, Device Registration, Additional Cloud Credentials, Additional Email Delegate Permissions]\n",
      "              Obtain Capabilities                                                                                                                                                                                                                                                                                        [Artificial Intelligence, Digital Certificates, Vulnerabilities, Malware, Tool, Code Signing Certificates, Exploits]\n",
      "Abuse Elevation Control Mechanism                                                                                                                                                                                                                                                  [Bypass User Account Control, Sudo and Sudo Caching, Setuid and Setgid, Temporary Elevated Cloud Access, Elevated Execution with Prompt, TCC Manipulation]\n"
     ]
    }
   ],
   "source": [
    "def D2_subtechniques():\n",
    "    q = \"\"\"\n",
    "    MATCH (sub:Attack {stix_type:'attack-pattern'})-[:ATTACK_REL {rel_type:'subtechnique-of'}]->(parent:Attack {stix_type:'attack-pattern'})\n",
    "    RETURN parent.name AS technique, collect(sub.name) AS subtechniques\n",
    "    ORDER BY size(subtechniques) DESC\n",
    "    LIMIT 20\n",
    "    \"\"\"\n",
    "    return query(q)\n",
    "\n",
    "_print_section(\"D2 parent -> subtechniques\", D2_subtechniques())\n"
   ]
  },
  {
   "cell_type": "markdown",
   "id": "ebdbfe1a-b1ab-4947-8043-b505671e7d21",
   "metadata": {},
   "source": [
    "#### D3. Techniques by platform (Windows, Linux, Cloud, etc.)"
   ]
  },
  {
   "cell_type": "code",
   "execution_count": 115,
   "id": "83a9bb1d-3a57-4f72-8417-16a12efc5d4c",
   "metadata": {},
   "outputs": [
    {
     "name": "stdout",
     "output_type": "stream",
     "text": [
      "\\n=== D3 techniques by platform ===\n",
      "  platform  technique_count\n",
      "   windows              568\n",
      "     macos              423\n",
      "     linux              400\n",
      "      saas               68\n",
      "office 365                3\n"
     ]
    }
   ],
   "source": [
    "def D3_techniques_by_platform():\n",
    "    q = \"\"\"\n",
    "    UNWIND ['windows','linux','macos','azure','aws','gcp','saas','office 365','network'] AS platform\n",
    "    MATCH (tech:Attack {stix_type:'attack-pattern'})\n",
    "    WHERE platform IN [p IN coalesce(tech.platforms,[]) | toLower(p)]\n",
    "    RETURN platform, count(tech) AS technique_count\n",
    "    ORDER BY technique_count DESC\n",
    "    \"\"\"\n",
    "    return query(q)\n",
    "\n",
    "_print_section(\"D3 techniques by platform\", D3_techniques_by_platform())\n"
   ]
  },
  {
   "cell_type": "markdown",
   "id": "a4b2d541-c171-4852-8bda-91e25fe9022e",
   "metadata": {},
   "source": [
    "### D4. Domain breakdown (enterprise / mobile / ics)"
   ]
  },
  {
   "cell_type": "code",
   "execution_count": 118,
   "id": "dad9f0a8-0460-4c35-a641-ad46ac36712c",
   "metadata": {},
   "outputs": [
    {
     "name": "stdout",
     "output_type": "stream",
     "text": [
      "\\n=== D4 domain breakdown ===\n",
      "           domain  nodes\n",
      "enterprise-attack   2239\n",
      "       ics-attack     79\n",
      "    mobile-attack     30\n"
     ]
    }
   ],
   "source": [
    "def D4_domain_breakdown():\n",
    "    q = \"\"\"\n",
    "    UNWIND ['enterprise-attack','mobile-attack','ics-attack'] AS dom\n",
    "    MATCH (n:Attack)\n",
    "    WHERE dom IN [d IN coalesce(n.domains,[]) | toLower(d)]\n",
    "    RETURN dom AS domain, count(n) AS nodes\n",
    "    ORDER BY nodes DESC\n",
    "    \"\"\"\n",
    "    return query(q)\n",
    "\n",
    "_print_section(\"D4 domain breakdown\", D4_domain_breakdown())\n"
   ]
  },
  {
   "cell_type": "markdown",
   "id": "5611a726-b275-4954-ab58-0a3fd1cdf36c",
   "metadata": {},
   "source": [
    "#### D5. What changed recently? (techniques modified in last 180 days)"
   ]
  },
  {
   "cell_type": "code",
   "execution_count": 121,
   "id": "24f52b48-ec1c-4c32-9f50-1acc40843768",
   "metadata": {},
   "outputs": [
    {
     "name": "stdout",
     "output_type": "stream",
     "text": [
      "\\n=== D5 recently modified techniques ===\n",
      "                                            technique                          t.modified\n",
      "                               Remote Access Hardware 2025-05-02T19:13:42.314000000+00:00\n",
      "                             Malicious Copy and Paste 2025-04-30T17:53:48.667000000+00:00\n",
      "                                 Windows Admin Shares 2025-04-25T15:16:26.092000000+00:00\n",
      "                                          InstallUtil 2025-04-25T15:16:24.168000000+00:00\n",
      "                  Custom Command and Control Protocol 2025-04-25T15:16:23.937000000+00:00\n",
      "                                           PowerShell 2025-04-25T15:16:22.903000000+00:00\n",
      "                                    Service Execution 2025-04-25T15:16:22.595000000+00:00\n",
      "                                 NTFS File Attributes 2025-04-25T15:16:22.196000000+00:00\n",
      "                                    Fallback Channels 2025-04-25T15:16:21.879000000+00:00\n",
      "                                Dynamic Data Exchange 2025-04-25T15:16:20.948000000+00:00\n",
      "                                        Launch Daemon 2025-04-25T15:16:19.536000000+00:00\n",
      "Windows Management Instrumentation Event Subscription 2025-04-25T15:16:19.359000000+00:00\n",
      "                     Network Share Connection Removal 2025-04-25T15:16:19.031000000+00:00\n",
      "                                 Space after Filename 2025-04-25T15:16:17.444000000+00:00\n",
      "                                         Launch Agent 2025-04-25T15:16:16.089000000+00:00\n",
      "                                       Time Providers 2025-04-25T15:16:15.834000000+00:00\n",
      "                                   Template Injection 2025-04-25T15:16:15.516000000+00:00\n",
      "                         Hidden Files and Directories 2025-04-25T15:16:15.339000000+00:00\n",
      "                                       Data Encrypted 2025-04-25T15:16:14.674000000+00:00\n",
      "                             Install Root Certificate 2025-04-25T15:16:14.454000000+00:00\n",
      "                            Spearphishing via Service 2025-04-25T15:16:13.450000000+00:00\n",
      "                                                Emond 2025-04-25T15:16:13.265000000+00:00\n",
      "                                Clear Command History 2025-04-25T15:16:12.955000000+00:00\n",
      "                                   Compiled HTML File 2025-04-25T15:16:12.199000000+00:00\n",
      "                               Compile After Delivery 2025-04-25T15:16:11.353000000+00:00\n"
     ]
    }
   ],
   "source": [
    "def D5_recently_modified(recent_days=DEFAULTS[\"recent_days\"]):\n",
    "    q = \"\"\"\n",
    "    MATCH (t:Attack {stix_type:'attack-pattern'})\n",
    "    WHERE t.modified >= datetime() - duration({days:$days})\n",
    "    RETURN t.name AS technique, t.modified\n",
    "    ORDER BY t.modified DESC\n",
    "    LIMIT 25\n",
    "    \"\"\"\n",
    "    return query(q, days=recent_days)\n",
    "\n",
    "_print_section(\"D5 recently modified techniques\", D5_recently_modified(DEFAULTS[\"recent_days\"]))\n"
   ]
  },
  {
   "cell_type": "markdown",
   "id": "7a8c120d-43e7-4e0e-b4ac-93f6acebf531",
   "metadata": {},
   "source": [
    "## Part E — “Put it all together” mini-scenarios\n",
    "### E1. Build a mitigation backlog for a target group\n",
    "\n",
    "- Run B1 to list techniques;\n",
    "\n",
    "- Run C1 to collect mitigations;\n",
    "\n",
    "- Run C2 to flag gaps → prioritize gaps first.\n",
    "\n",
    "### E2. Choose detections for a critical tactic\n",
    "\n",
    "- Use D1 to get all techniques in the tactic (e.g., defense-evasion), then C3/C4 to pick the most detectable ones for quick wins.\n",
    "\n",
    "### E3. Software pivot\n",
    "\n",
    "- Given a tool/malware name, list all groups that use it and the techniques it enables:"
   ]
  },
  {
   "cell_type": "markdown",
   "id": "2ce5deb4-316d-4acb-ab56-eb3354575318",
   "metadata": {},
   "source": [
    "#### Please solve E1, and E2 by yourself."
   ]
  },
  {
   "cell_type": "code",
   "execution_count": 128,
   "id": "5205ca3b-500e-494b-b2f9-dbc540862a12",
   "metadata": {},
   "outputs": [
    {
     "name": "stdout",
     "output_type": "stream",
     "text": [
      "\\n=== E3 software pivot ===\n",
      "software                                                                                                                                                                                                                                                                                                                                                                                                                                                                                                                   groups                                                                                                                                                                                                                                                                                                                                                                          techniques\n",
      "Mimikatz [APT38, menuPass, APT39, PittyTiger, Blue Mockingbird, Kimsuky, Volt Typhoon, BackdoorDiplomacy, Akira, APT41, FIN6, APT1, OilRig, Cleaver, Thrip, APT33, Whitefly, Carbanak, Agrius, APT29, FIN13, Chimera, BRONZE BUTLER, BlackByte, Earth Lusca, APT5, Dragonfly, Leafminer, MuddyWater, Turla, FIN7, Magic Hound, LAPSUS$, APT28, TEMP.Veles, Indrik Spider, Wizard Spider, Play, TA505, DarkHydrus, Sandworm Team, Tonto Team, Cobalt Group, Threat Group-3390, HEXANE, APT32, GALLIUM, Scattered Spider, Ke3chang] [Credentials from Password Stores, Security Support Provider, Windows Credential Manager, Account Manipulation, Private Keys, Golden Ticket, Steal or Forge Authentication Certificates, Rogue Domain Controller, DCSync, LSA Secrets, Pass the Hash, LSASS Memory, Credentials from Web Browsers, Security Account Manager, Silver Ticket, Pass the Ticket, SID-History Injection]\n"
     ]
    }
   ],
   "source": [
    "def E3_software_pivot(software=DEFAULTS[\"software\"]):\n",
    "    q = \"\"\"\n",
    "    WITH toLower($software) AS q\n",
    "    MATCH (s:Attack) WHERE s.stix_type IN ['tool','malware'] AND toLower(s.name) CONTAINS q\n",
    "    OPTIONAL MATCH (g:Attack {stix_type:'intrusion-set'})-[:ATTACK_REL {rel_type:'uses'}]->(s)\n",
    "    OPTIONAL MATCH (s)-[:ATTACK_REL {rel_type:'uses'}]->(tech:Attack {stix_type:'attack-pattern'})\n",
    "    RETURN s.name AS software, collect(DISTINCT g.name) AS groups, collect(DISTINCT tech.name)[0..25] AS techniques\n",
    "    \"\"\"\n",
    "    return query(q, software=software)\n",
    "\n",
    "_print_section(\"E3 software pivot\", E3_software_pivot(DEFAULTS[\"software\"]))\n"
   ]
  },
  {
   "cell_type": "code",
   "execution_count": null,
   "id": "58c0e166-91fb-4b54-a9fe-7bcba44ae819",
   "metadata": {},
   "outputs": [],
   "source": []
  }
 ],
 "metadata": {
  "kernelspec": {
   "display_name": "Python [conda env:base] *",
   "language": "python",
   "name": "conda-base-py"
  },
  "language_info": {
   "codemirror_mode": {
    "name": "ipython",
    "version": 3
   },
   "file_extension": ".py",
   "mimetype": "text/x-python",
   "name": "python",
   "nbconvert_exporter": "python",
   "pygments_lexer": "ipython3",
   "version": "3.12.7"
  }
 },
 "nbformat": 4,
 "nbformat_minor": 5
}
